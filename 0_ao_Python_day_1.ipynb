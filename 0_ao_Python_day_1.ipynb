{
  "nbformat": 4,
  "nbformat_minor": 0,
  "metadata": {
    "colab": {
      "name": "0 ao Python - day 1.ipynb",
      "provenance": [],
      "collapsed_sections": [],
      "authorship_tag": "ABX9TyNybchKJnjZ+P+w/UAv6Lgu",
      "include_colab_link": true
    },
    "kernelspec": {
      "name": "python3",
      "display_name": "Python 3"
    }
  },
  "cells": [
    {
      "cell_type": "markdown",
      "metadata": {
        "id": "view-in-github",
        "colab_type": "text"
      },
      "source": [
        "<a href=\"https://colab.research.google.com/github/CarolinaPaulo/CarolinaPaulo.github.io/blob/master/0_ao_Python_day_1.ipynb\" target=\"_parent\"><img src=\"https://colab.research.google.com/assets/colab-badge.svg\" alt=\"Open In Colab\"/></a>"
      ]
    },
    {
      "cell_type": "markdown",
      "metadata": {
        "id": "gh6zWmBC-85D"
      },
      "source": [
        "#Como criar uma variavel?\r\n",
        "\r\n"
      ]
    },
    {
      "cell_type": "markdown",
      "metadata": {
        "id": "Roz68OvNFSai"
      },
      "source": [
        "## Variável Int"
      ]
    },
    {
      "cell_type": "code",
      "metadata": {
        "colab": {
          "base_uri": "https://localhost:8080/"
        },
        "id": "-lF9TX6h_CcI",
        "outputId": "dc4fc769-b75d-4ef9-c794-575f9a515c0e"
      },
      "source": [
        "variavel = 2\r\n",
        "print(variavel)\r\n",
        "type(variavel)"
      ],
      "execution_count": null,
      "outputs": [
        {
          "output_type": "stream",
          "text": [
            "2\n"
          ],
          "name": "stdout"
        },
        {
          "output_type": "execute_result",
          "data": {
            "text/plain": [
              "int"
            ]
          },
          "metadata": {
            "tags": []
          },
          "execution_count": 4
        }
      ]
    },
    {
      "cell_type": "markdown",
      "metadata": {
        "id": "26PDE5fK_4fS"
      },
      "source": [
        "##Variável com valor real"
      ]
    },
    {
      "cell_type": "code",
      "metadata": {
        "colab": {
          "base_uri": "https://localhost:8080/"
        },
        "id": "-LS3DFgA_92x",
        "outputId": "dbfcee0d-e94b-46bd-adab-0c7b6f7081b4"
      },
      "source": [
        "preco_do_produto =  2.5\r\n",
        "print(preco_do_produto)\r\n",
        "type(preco_do_produto)"
      ],
      "execution_count": null,
      "outputs": [
        {
          "output_type": "stream",
          "text": [
            "2.5\n"
          ],
          "name": "stdout"
        },
        {
          "output_type": "execute_result",
          "data": {
            "text/plain": [
              "float"
            ]
          },
          "metadata": {
            "tags": []
          },
          "execution_count": 5
        }
      ]
    },
    {
      "cell_type": "markdown",
      "metadata": {
        "id": "pjNRfCboAgwr"
      },
      "source": [
        "##Variavel String"
      ]
    },
    {
      "cell_type": "code",
      "metadata": {
        "colab": {
          "base_uri": "https://localhost:8080/"
        },
        "id": "wFiOWcomAhGU",
        "outputId": "bbd2e17d-5f57-4d9d-8c5d-c2c4d414605d"
      },
      "source": [
        "variavel = \"texto\"\r\n",
        "print(variavel)\r\n",
        "type(variavel)"
      ],
      "execution_count": null,
      "outputs": [
        {
          "output_type": "stream",
          "text": [
            "texto\n"
          ],
          "name": "stdout"
        },
        {
          "output_type": "execute_result",
          "data": {
            "text/plain": [
              "str"
            ]
          },
          "metadata": {
            "tags": []
          },
          "execution_count": 6
        }
      ]
    },
    {
      "cell_type": "markdown",
      "metadata": {
        "id": "TxXulOvmB1Sz"
      },
      "source": [
        "Variavel boolean\r\n"
      ]
    },
    {
      "cell_type": "code",
      "metadata": {
        "colab": {
          "base_uri": "https://localhost:8080/"
        },
        "id": "8DAYaw45B4Ce",
        "outputId": "bc951195-0960-4b9a-a926-258f2b6f4212"
      },
      "source": [
        "verdadeiro = True\r\n",
        "falso = False\r\n",
        "print(verdadeiro)\r\n",
        "print(falso)"
      ],
      "execution_count": null,
      "outputs": [
        {
          "output_type": "stream",
          "text": [
            "True\n",
            "False\n"
          ],
          "name": "stdout"
        }
      ]
    },
    {
      "cell_type": "markdown",
      "metadata": {
        "id": "_FS8_srnC6xx"
      },
      "source": [
        "# **Listas**"
      ]
    },
    {
      "cell_type": "code",
      "metadata": {
        "colab": {
          "base_uri": "https://localhost:8080/"
        },
        "id": "SFLTBXDVDUVY",
        "outputId": "072dbe6f-f851-4ab2-f839-a812e2868bf2"
      },
      "source": [
        "lista = [1,2,3,4,5,6,7,8]\r\n",
        "print(lista)\r\n"
      ],
      "execution_count": 9,
      "outputs": [
        {
          "output_type": "stream",
          "text": [
            "[1, 2, 3, 4, 5, 6, 7, 8]\n"
          ],
          "name": "stdout"
        }
      ]
    },
    {
      "cell_type": "code",
      "metadata": {
        "colab": {
          "base_uri": "https://localhost:8080/"
        },
        "id": "AtxjGsw3Depa",
        "outputId": "ea597134-f0b8-4040-c06b-3067729cbba7"
      },
      "source": [
        "lista2 = [True, False, True, False]\r\n",
        "print(lista2)"
      ],
      "execution_count": 10,
      "outputs": [
        {
          "output_type": "stream",
          "text": [
            "[True, False, True, False]\n"
          ],
          "name": "stdout"
        }
      ]
    },
    {
      "cell_type": "code",
      "metadata": {
        "colab": {
          "base_uri": "https://localhost:8080/"
        },
        "id": "zRp76ZwWDniq",
        "outputId": "9f022771-1970-4aaa-cff3-43b7d3351521"
      },
      "source": [
        "lista_kenzie = [1, 'luan', 2, 'guilherme', 3 ,'daniel']\r\n",
        "print(lista_kenzie)"
      ],
      "execution_count": 11,
      "outputs": [
        {
          "output_type": "stream",
          "text": [
            "[1, 'luan', 2, 'guilherme', 3, 'daniel']\n"
          ],
          "name": "stdout"
        }
      ]
    },
    {
      "cell_type": "markdown",
      "metadata": {
        "id": "oNTR90oLE11X"
      },
      "source": [
        ""
      ]
    },
    {
      "cell_type": "markdown",
      "metadata": {
        "id": "LA1LT_LWE2NC"
      },
      "source": [
        "# Condições\r\n"
      ]
    },
    {
      "cell_type": "markdown",
      "metadata": {
        "id": "i38L8fhLFBiv"
      },
      "source": [
        "## Básico\r\n"
      ]
    },
    {
      "cell_type": "code",
      "metadata": {
        "colab": {
          "base_uri": "https://localhost:8080/"
        },
        "id": "xKKYEpojEAC3",
        "outputId": "03f170a9-e400-470d-f9a0-3b03795e4c5d"
      },
      "source": [
        "if 3 > 2:\r\n",
        "  print(\"é maior\")\r\n",
        "  print('foi')"
      ],
      "execution_count": 12,
      "outputs": [
        {
          "output_type": "stream",
          "text": [
            "é maior\n",
            "foi\n"
          ],
          "name": "stdout"
        }
      ]
    },
    {
      "cell_type": "code",
      "metadata": {
        "colab": {
          "base_uri": "https://localhost:8080/"
        },
        "id": "hRhfKIkxEbe7",
        "outputId": "9578fe2b-2472-468a-e251-062f3f598fd9"
      },
      "source": [
        "if 2 > 3:\r\n",
        "  print(\"é maior\")\r\n",
        "  print('foi')\r\n",
        "else:\r\n",
        "  print(\"não é maior\")\r\n",
        "  print('foi também')"
      ],
      "execution_count": 15,
      "outputs": [
        {
          "output_type": "stream",
          "text": [
            "não é maior\n",
            "foi também\n"
          ],
          "name": "stdout"
        }
      ]
    },
    {
      "cell_type": "markdown",
      "metadata": {
        "id": "Y6IvrDmfEwPy"
      },
      "source": [
        "##Usando variaveis\r\n"
      ]
    },
    {
      "cell_type": "code",
      "metadata": {
        "colab": {
          "base_uri": "https://localhost:8080/"
        },
        "id": "Xbtucfz4FacD",
        "outputId": "274b8fe0-4ead-49e1-c3c0-e944f4e52caf"
      },
      "source": [
        "variavel_1 = 3\r\n",
        "variavel_2 = 4\r\n",
        "if variavel_1 < variavel_2:\r\n",
        "  print('O valor na variável_1 é menor')"
      ],
      "execution_count": 16,
      "outputs": [
        {
          "output_type": "stream",
          "text": [
            "O valor na variável_1 é menor\n"
          ],
          "name": "stdout"
        }
      ]
    }
  ]
}